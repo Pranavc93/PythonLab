import math

# Dictionary of paint colors and cost per gallon
paint_colors = {
   'red': 35,
   'blue': 25,
   'green': 23
}

# FIXME (1): Prompt user to input wall's width
# Calculate and output wall area
wall_height = int(input('Enter wall height (feet):\n'))
wall_width = int(input('Enter wall width (feet):\n'))
wall_area = int((wall_height * wall_width))
print('Wall area:',wall_area, 'square feet')

# FIXME (2): Calculate and output the amount of paint in gallons needed to paint the wall
amount_paint = float((wall_area)/(350))
print('Paint needed: ''{:.2f}'.format(amount_paint), 'gallons')


# FIXME (3): Calculate and output the number of 1 gallon cans needed to paint the wall, rounded up to nearest integer
#amount_of_paint = math.ceil(amount_paint)
number_of_cans = math.ceil(((wall_area)/(350)))
print('Cans needed:',number_of_cans, 'can(s)\n')
# FIXME (4): Calculate and output the total cost of paint can needed depending on color
user_color = input(('Choose a color to paint the wall:\n'))
cost_of_paint = ((number_of_cans) * (paint_colors[user_color]))
print('Cost of purchasing', user_color, 'paint: $'+ str(cost_of_paint))
